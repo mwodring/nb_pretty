{
 "cells": [
  {
   "cell_type": "markdown",
   "id": "46565586-ac85-4de9-9414-91ab576b986a",
   "metadata": {
    "tags": []
   },
   "source": [
    "# Visualise Newick Trees"
   ]
  },
  {
   "cell_type": "markdown",
   "id": "379ee73e-a042-4aa1-8704-44e7807fb6fe",
   "metadata": {
    "tags": []
   },
   "source": [
    "## Setup"
   ]
  },
  {
   "cell_type": "code",
   "execution_count": 1,
   "id": "bb12e5fc-1e8d-4b75-bcad-33fb8fdf3c4d",
   "metadata": {
    "tags": []
   },
   "outputs": [],
   "source": [
    "from ete3 import Tree, NodeStyle\n",
    "import ipywidgets as widgets\n",
    "from IPython.display import Image, display, Markdown\n",
    "import os\n",
    "#Binder only:\n",
    "os.environ['QT_QPA_PLATFORM']='offscreen'"
   ]
  },
  {
   "cell_type": "code",
   "execution_count": 2,
   "id": "94570646-5629-4170-93c1-d8881145cc7f",
   "metadata": {
    "jupyter": {
     "source_hidden": true
    },
    "tags": []
   },
   "outputs": [],
   "source": [
    "t = None\n",
    "tree_name = None\n",
    "selection = None\n",
    "colour_map = {}"
   ]
  },
  {
   "cell_type": "code",
   "execution_count": 3,
   "id": "b5909e48-aec0-462c-9ada-e8e4d48f4295",
   "metadata": {
    "jupyter": {
     "source_hidden": true
    },
    "tags": []
   },
   "outputs": [],
   "source": [
    "def select_click(b):\n",
    "    output2.clear_output(wait=True)\n",
    "    colour_map.update({colour.value : selection.value}) \n",
    "    for select in selection.value:\n",
    "        with output2:\n",
    "            printmd(f'Added **<font color={colour.value}>{select}</font>**')"
   ]
  },
  {
   "cell_type": "code",
   "execution_count": 4,
   "id": "34827ade-4dcc-4186-bbc0-87174987128b",
   "metadata": {
    "jupyter": {
     "source_hidden": true
    },
    "tags": []
   },
   "outputs": [],
   "source": [
    "def printmd(string):\n",
    "    display(Markdown(string))"
   ]
  },
  {
   "cell_type": "code",
   "execution_count": 5,
   "id": "55c13e53-34c1-459e-ab76-f90dcb82074c",
   "metadata": {
    "jupyter": {
     "source_hidden": true
    },
    "tags": []
   },
   "outputs": [],
   "source": [
    "colour = widgets.ColorPicker(\n",
    "                             concise=False,\n",
    "                             description='Pick a colour:',\n",
    "                             value='blue',\n",
    "                             disabled=False\n",
    "                            )\n",
    "\n",
    "select_btn = widgets.Button(description=\"Submit\")\n",
    "select_btn.on_click(select_click)\n",
    "                            \n",
    "output = widgets.Output()\n",
    "output2 = widgets.Output()"
   ]
  },
  {
   "cell_type": "code",
   "execution_count": 6,
   "id": "ae225911-7f03-443d-b2e6-b58085827208",
   "metadata": {
    "tags": []
   },
   "outputs": [],
   "source": [
    "newick = widgets.Text(\n",
    "                      placeholder='Paste .newick file contents here.',\n",
    "                      description=\"Newick:\",\n",
    "                      )\n",
    "newick_btn = widgets.Button(description=\"Submit\")\n",
    "\n",
    "def newick_submit(b):\n",
    "    global t\n",
    "    global selection\n",
    "    with output:\n",
    "        print(\"Loading...\")\n",
    "    t = Tree(newick.value)\n",
    "    with output:\n",
    "        output.clear_output()\n",
    "        print(\"Tree loaded.\")\n",
    "    nodes = t.get_leaves()\n",
    "    names = [node.name for node in nodes]\n",
    "    selection = widgets.SelectMultiple(\n",
    "                                       options=names,\n",
    "                                       layout={'width': 'max-content'},\n",
    "                                       description='Pick the nodes to colour:',\n",
    "                                       disabled=False,\n",
    "                                      )\n",
    "    with output:\n",
    "        display(colour)\n",
    "        display(selection, select_btn)\n",
    "    \n",
    "newick_btn.on_click(newick_submit)"
   ]
  },
  {
   "cell_type": "code",
   "execution_count": 7,
   "id": "ea72af7b-04d1-43a4-b767-f003642b42e1",
   "metadata": {
    "jupyter": {
     "source_hidden": true
    },
    "tags": []
   },
   "outputs": [],
   "source": [
    "name_tree = widgets.Text(\n",
    "                         value='New_Tree',\n",
    "                         placeholder='Start typing',\n",
    "                         description='Filename (without .png):',\n",
    "                         disabled=False   \n",
    "                        )\n",
    "name_btn = widgets.Button(description=\"Submit\")\n",
    "\n",
    "def name_submit(b):\n",
    "    tree_name = name_tree.value()\n",
    "\n",
    "name_btn.on_click(name_submit)"
   ]
  },
  {
   "cell_type": "code",
   "execution_count": 8,
   "id": "cd6f35b9-d79b-47e1-aeed-4b5b3cb4700d",
   "metadata": {
    "jupyter": {
     "source_hidden": true
    },
    "tags": []
   },
   "outputs": [],
   "source": [
    "def NewNodeStyle(colour: str) -> NodeStyle:\n",
    "    ns = NodeStyle()\n",
    "    ns['shape'] = \"sphere\"\n",
    "    ns['size'] = 10\n",
    "    ns['fgcolor'] = colour\n",
    "    return ns"
   ]
  },
  {
   "cell_type": "code",
   "execution_count": 9,
   "id": "0821f9d4-4f4c-4508-8f34-e835f53340be",
   "metadata": {
    "jupyter": {
     "source_hidden": true
    },
    "tags": []
   },
   "outputs": [],
   "source": [
    "final_output = widgets.Output()"
   ]
  },
  {
   "cell_type": "code",
   "execution_count": 10,
   "id": "dc5ab7c5-f896-4517-9b07-3bcb0bc40495",
   "metadata": {
    "jupyter": {
     "source_hidden": true
    },
    "tags": []
   },
   "outputs": [],
   "source": [
    "def colour_nodes():\n",
    "    for colour, names in colour_map.items():\n",
    "        nodes = []\n",
    "        for name in names:\n",
    "            nodes.extend(t.search_nodes(name=name))\n",
    "        for node in nodes:\n",
    "            node.set_style(NewNodeStyle(colour))"
   ]
  },
  {
   "cell_type": "code",
   "execution_count": 11,
   "id": "6750e7a3-4864-40e2-9a67-8649f69c9169",
   "metadata": {
    "jupyter": {
     "source_hidden": true
    },
    "tags": []
   },
   "outputs": [],
   "source": [
    "def generate(b):\n",
    "    def quick_render(img_file):\n",
    "        t.render(img_file, w=250, h=700)\n",
    "    with final_output:\n",
    "        print(\"Generating, this takes a moment...\")\n",
    "    colour_nodes()\n",
    "    img_file = f\"{tree_name}.svg\"\n",
    "    quick_render(img_file)\n",
    "    img_file = f\"{tree_name}.png\"\n",
    "    quick_render(img_file)\n",
    "    with final_output:\n",
    "        display(Image(img_file))\n",
    "\n",
    "generate_btn = widgets.Button(description=\"Generate tree\")\n",
    "generate_btn.on_click(generate)"
   ]
  },
  {
   "cell_type": "markdown",
   "id": "ddf715cd-29e9-48e4-b392-dc61683b4069",
   "metadata": {},
   "source": [
    "## Make your tree"
   ]
  },
  {
   "cell_type": "markdown",
   "id": "977b502a-810d-44a3-a0fe-b147265d9d90",
   "metadata": {},
   "source": [
    "Upload your newick file:"
   ]
  },
  {
   "cell_type": "code",
   "execution_count": 12,
   "id": "01956b24-bfe6-4c6e-a08a-92fad56a92b5",
   "metadata": {
    "jupyter": {
     "source_hidden": true
    },
    "tags": []
   },
   "outputs": [
    {
     "data": {
      "application/vnd.jupyter.widget-view+json": {
       "model_id": "67afc0ae4a86490eb5e06f8ad8bcb2f9",
       "version_major": 2,
       "version_minor": 0
      },
      "text/plain": [
       "Text(value='', description='Newick:', placeholder='Paste .newick file contents here.')"
      ]
     },
     "metadata": {},
     "output_type": "display_data"
    },
    {
     "data": {
      "application/vnd.jupyter.widget-view+json": {
       "model_id": "9da8fa8789aa4dadbde15facb2c5efad",
       "version_major": 2,
       "version_minor": 0
      },
      "text/plain": [
       "Button(description='Submit', style=ButtonStyle())"
      ]
     },
     "metadata": {},
     "output_type": "display_data"
    }
   ],
   "source": [
    "display(newick, newick_btn)"
   ]
  },
  {
   "cell_type": "markdown",
   "id": "a6410199-148d-435b-baf3-2774fa2320b4",
   "metadata": {},
   "source": [
    "Ctrl/Cmd click to select multiple, click once with multiple selected to revert to one:"
   ]
  },
  {
   "cell_type": "code",
   "execution_count": 13,
   "id": "fb12d764-95e9-4dba-8be8-39b2c4d747c9",
   "metadata": {
    "jupyter": {
     "source_hidden": true
    },
    "tags": []
   },
   "outputs": [
    {
     "data": {
      "application/vnd.jupyter.widget-view+json": {
       "model_id": "f367964cda894a728e69ca295e05b6da",
       "version_major": 2,
       "version_minor": 0
      },
      "text/plain": [
       "Output()"
      ]
     },
     "metadata": {},
     "output_type": "display_data"
    },
    {
     "data": {
      "application/vnd.jupyter.widget-view+json": {
       "model_id": "afca342f0a214864998388f985833857",
       "version_major": 2,
       "version_minor": 0
      },
      "text/plain": [
       "Output()"
      ]
     },
     "metadata": {},
     "output_type": "display_data"
    }
   ],
   "source": [
    "display(output)\n",
    "display(output2)"
   ]
  },
  {
   "cell_type": "markdown",
   "id": "3feca345-66d6-4242-bf35-05594977bc7c",
   "metadata": {},
   "source": [
    "Name your file:"
   ]
  },
  {
   "cell_type": "code",
   "execution_count": 14,
   "id": "bcfd65b3-bf9e-41a1-b61e-5c08d0ff20a0",
   "metadata": {
    "jupyter": {
     "source_hidden": true
    },
    "tags": []
   },
   "outputs": [
    {
     "data": {
      "application/vnd.jupyter.widget-view+json": {
       "model_id": "a6a74c4f2ee84019b71fbac3c049f856",
       "version_major": 2,
       "version_minor": 0
      },
      "text/plain": [
       "Text(value='New_Tree', description='Filename (without .png):', placeholder='Start typing')"
      ]
     },
     "metadata": {},
     "output_type": "display_data"
    }
   ],
   "source": [
    "display(name_tree)"
   ]
  },
  {
   "cell_type": "markdown",
   "id": "568177d4-04bd-499d-bf3d-0a79456f0398",
   "metadata": {},
   "source": [
    "Click generate once you're finished:"
   ]
  },
  {
   "cell_type": "code",
   "execution_count": 15,
   "id": "7c7a5e1b-fd05-43b7-bbfc-b9dd112f3c46",
   "metadata": {
    "jupyter": {
     "source_hidden": true
    },
    "tags": []
   },
   "outputs": [
    {
     "data": {
      "application/vnd.jupyter.widget-view+json": {
       "model_id": "02f69806990543df88bc55a9c1a5b9e6",
       "version_major": 2,
       "version_minor": 0
      },
      "text/plain": [
       "Button(description='Generate tree', style=ButtonStyle())"
      ]
     },
     "metadata": {},
     "output_type": "display_data"
    },
    {
     "data": {
      "application/vnd.jupyter.widget-view+json": {
       "model_id": "36428104329747feb8d558ed2d643fd7",
       "version_major": 2,
       "version_minor": 0
      },
      "text/plain": [
       "Output()"
      ]
     },
     "metadata": {},
     "output_type": "display_data"
    }
   ],
   "source": [
    "display(generate_btn)\n",
    "display(final_output)"
   ]
  }
 ],
 "metadata": {
  "kernelspec": {
   "display_name": "Python 3 (ipykernel)",
   "language": "python",
   "name": "python3"
  },
  "language_info": {
   "codemirror_mode": {
    "name": "ipython",
    "version": 3
   },
   "file_extension": ".py",
   "mimetype": "text/x-python",
   "name": "python",
   "nbconvert_exporter": "python",
   "pygments_lexer": "ipython3",
   "version": "3.10.9"
  }
 },
 "nbformat": 4,
 "nbformat_minor": 5
}
